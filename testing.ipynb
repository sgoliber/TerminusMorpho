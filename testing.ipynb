{
 "cells": [
  {
   "cell_type": "code",
   "execution_count": 1,
   "id": "c0d8a3da-0026-49db-9199-f5205b10c222",
   "metadata": {},
   "outputs": [],
   "source": [
    "from terminus import termpicks_trace\n",
    "import shapely\n",
    "import numpy as np\n",
    "import pandas as pd\n",
    "import geopandas as gpd"
   ]
  },
  {
   "cell_type": "code",
   "execution_count": 9,
   "id": "9fc4645e-385e-483d-a8bc-cece28061b7e",
   "metadata": {},
   "outputs": [],
   "source": [
    "def glac_vectors(glacierID,terminus_data,terminus_centerline,terminus_sidelines, start_date='1984-12-31', end_date='2022-12-31',glacierid_column='GlacierID',date_column='Date'):\n",
    "    \n",
    "    #If the data is not a dataframe, open it adn replace the variable with the data\n",
    "    if not isinstance(terminus_data, gpd.GeoDataFrame):\n",
    "        terminus_data = gpd.read_file(terminus_data)\n",
    "    if not isinstance(terminus_centerline, gpd.GeoDataFrame):\n",
    "        terminus_centerline = gpd.read_file(terminus_centerline)\n",
    "    if not isinstance(terminus_sidelines, gpd.GeoDataFrame):\n",
    "        terminus_sidelines = gpd.read_file(terminus_sidelines)\n",
    "    \n",
    "    #set up the terminus data\n",
    "    glac = terminus_data[terminus_data[glacierid_column] == glacierID]\n",
    "    \n",
    "    glac = glac[glac[date_column]>start_date]\n",
    "    glac = glac[glac[date_column]<end_date]\n",
    "    glac=glac.sort_values(by=['Date'])\n",
    "    \n",
    "    glac['Datetime'] = pd.to_datetime(glac[date_column])\n",
    "    \n",
    "    #set up the other layers\n",
    "    sideline=terminus_sidelines[terminus_sidelines[glacierid_column]==glacierID]\n",
    "    center = terminus_centerline[terminus_centerline[glacierid_column]==glacierID]\n",
    "    \n",
    "    return glac, center, sideline"
   ]
  },
  {
   "cell_type": "code",
   "execution_count": 10,
   "id": "345e3966-3ec6-43c7-ad4f-33fd394d1a97",
   "metadata": {},
   "outputs": [],
   "source": [
    "glac,center,sideline = glac_vectors(2,terminus_data = '../Documents/PGC/Terminus/seelcted_glaciers_combined/selected_glacs_clipped_edit.shp',\n",
    "                                    terminus_centerline='../Documents/PGC/Centerlines/termpicks_centerlines/termpicks_centerlines.shp',terminus_sidelines='../Documents/PGC/Glacier_outlines/side_lines/sidelines_v1.shp')\n",
    "\n"
   ]
  },
  {
   "cell_type": "code",
   "execution_count": null,
   "id": "8c85a499-936b-426b-a160-313f5a3c19fc",
   "metadata": {},
   "outputs": [],
   "source": [
    "#Clean up by # of verts\n",
    "num_verts = 11\n",
    "glac['verts'] = verts(glac)\n",
    "glac =glac[glac['verts'] > num_verts]"
   ]
  },
  {
   "cell_type": "code",
   "execution_count": 21,
   "id": "45a5d2c3-e4e0-4834-80a3-bf275636ebfa",
   "metadata": {},
   "outputs": [],
   "source": [
    "#calculate the points along the terminus trace\n",
    "term_points = termpicks_trace(glac,2).trace2points(n_vert = 30)\n",
    "term_points = term_points.sort_values(by=['Date'])\n",
    "points_list = term_points.geometry.to_list()\n",
    "geoms = glac['geometry'].to_list()"
   ]
  },
  {
   "cell_type": "code",
   "execution_count": 43,
   "id": "1a2a7fac-5029-4768-aa7f-ecce81bbdd74",
   "metadata": {},
   "outputs": [],
   "source": [
    "def split_line_by_point(line, point, tolerance: float=1.0e-12):\n",
    "    return shapely.ops.split(shapely.ops.snap(line, point, tolerance), point)\n",
    "\n",
    "def sinosity(line, points,distance_delta=1000):\n",
    "    \n",
    "    distances = np.arange(0, line.length, distance_delta)\n",
    "    points = shapely.geometry.MultiPoint([line.interpolate(distance) for distance in distances] + [line.boundary[1]])\n",
    "    result = split_line_by_point(line,points,1)\n",
    "    \n",
    "    indv_sinuosity = []\n",
    "    for piece in result:\n",
    "            downval = piece.boundary[0].distance(piece.boundary[1])\n",
    "            channel = piece.length\n",
    "            indv_sinuosity.append(channel/downval)\n",
    "            \n",
    "    #sdf = gpd.GeoDataFrame(geometry=[i for i in result])\n",
    "    #sdf['Sinuo'] = indv_sinuosity\n",
    "    \n",
    "    mean_sinuosity = (sum(indv_sinuosity)/len(indv_sinuosity))\n",
    "    \n",
    "    return points, mean_sinuosity"
   ]
  },
  {
   "cell_type": "code",
   "execution_count": 102,
   "id": "8d39d825-149a-44e1-bf95-36d186733146",
   "metadata": {},
   "outputs": [],
   "source": [
    "def cut_polygon_by_line(polygon, line):\n",
    "    merged = shapely.ops.linemerge([polygon.boundary, line])\n",
    "    borders = shapely.ops.unary_union(merged)\n",
    "    polygons = shapely.ops.polygonize(borders)\n",
    "    return list(polygons)\n",
    "\n",
    "def convexhull(line, points, sideline):\n",
    "    \n",
    "    point_array = np.array([[p.x,p.y] for p in points])\n",
    "    end_points = shapely.geometry.LineString([line.boundary[0], line.boundary[1]])\n",
    "    \n",
    "    #convex hull\n",
    "    polygon = line.convex_hull\n",
    "    clipped=cut_polygon_by_line(polygon, line)\n",
    "    \n",
    "    #Define side\n",
    "    poly = shapely.geometry.Polygon([*list(sideline.geometry.values[0].coords), *list(end_points.coords)])\n",
    "    if poly.is_valid == False:\n",
    "        poly = shapely.geometry.Polygon([*list(sideline.geometry.values[0].coords), *list(end_points.coords)[::-1]])\n",
    "        \n",
    "    convex_hulls = []\n",
    "    for segment in clipped:\n",
    "        r = segment.contains(line.centroid)\n",
    "        if r == True:\n",
    "            ch = segment.convex_hull.centroid\n",
    "            if poly.contains(ch) == True:\n",
    "                convex_hulls.append((segment.area)/1000000)\n",
    "            else:\n",
    "                convex_hulls.append((segment.area*-1)/1000000)\n",
    "    hull_area = (sum(convex_hulls))\n",
    "    \n",
    "    clippeddf = pd.DataFrame({'geometry':clipped})\n",
    "    clippedgdf = gpd.GeoDataFrame(df, geometry = 'geometry')\n",
    "    \n",
    "    return hull_area, clippedgdf\n"
   ]
  },
  {
   "cell_type": "code",
   "execution_count": null,
   "id": "b3cc2786-048a-45d8-a65b-f12bf5735f31",
   "metadata": {},
   "outputs": [],
   "source": []
  }
 ],
 "metadata": {
  "kernelspec": {
   "display_name": "Python 3 (ipykernel)",
   "language": "python",
   "name": "python3"
  },
  "language_info": {
   "codemirror_mode": {
    "name": "ipython",
    "version": 3
   },
   "file_extension": ".py",
   "mimetype": "text/x-python",
   "name": "python",
   "nbconvert_exporter": "python",
   "pygments_lexer": "ipython3",
   "version": "3.9.4"
  }
 },
 "nbformat": 4,
 "nbformat_minor": 5
}
