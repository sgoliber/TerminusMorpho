{
 "cells": [
  {
   "cell_type": "markdown",
   "id": "1cdf2671-825e-4ea6-be72-f9ab4308dc7a",
   "metadata": {},
   "source": [
    "## 1a. Digital Elevation Model preparation\n",
    "This notebook goes through the steps to prepare the PGC, AeroDEM, and GrIMP DEM for analysis and how to extract the Height above bouyancy values.\n",
    "\n",
    "At this time, the notebook requires you to have QGIS to for some of the steps.\n",
    "\n",
    "This notebook is primarily for preping the data. You do not need to run this notebook to recreate the figures. All sampled data is already avaible to be used."
   ]
  },
  {
   "cell_type": "code",
   "execution_count": 2,
   "id": "8492cd57-edcf-48dd-9095-621008f054ca",
   "metadata": {},
   "outputs": [],
   "source": [
    "import os\n",
    "import matplotlib.pyplot as plt\n",
    "import seaborn as sns\n",
    "import numpy as np\n",
    "from shapely.geometry import mapping\n",
    "import rioxarray as rxr\n",
    "import xarray as xr\n",
    "import geopandas as gpd\n",
    "import shutil\n",
    "from datetime import datetime\n",
    "import pandas as pd\n",
    "from shapely.affinity import translate\n",
    "import rasterio\n",
    "import sys\n",
    "\n",
    "from terminus import termpicks_trace, termpicks_centerline, termpicks_interpolation\n",
    "from dem_funcs import reproj_match,near"
   ]
  },
  {
   "cell_type": "code",
   "execution_count": null,
   "id": "14b45f5b-c210-41e3-9531-f7f0aad5f645",
   "metadata": {},
   "outputs": [],
   "source": [
    "#uploads the king data thickness summary that is used for calculating the stress coupling distance for the glacier of intrest\n",
    "kingdata = pd.read_csv('King_data_summary.csv')"
   ]
  },
  {
   "cell_type": "markdown",
   "id": "e44d9ac4-8869-4df6-9e37-448cde6a393f",
   "metadata": {},
   "source": [
    "Input the glacier ID for the glacier of intrest and calculate the stress coupling distance estimate from Enderlin et al. 2013"
   ]
  },
  {
   "cell_type": "code",
   "execution_count": null,
   "id": "f2f5282a-8791-414c-a634-9240907134be",
   "metadata": {},
   "outputs": [],
   "source": [
    "glacierid = '3'\n",
    "thickness = kingdata[kingdata['GlacierID']==int(glacierid)]['thick_mean'].values[0]\n",
    "stresscoup_dist = int((thickness*4)/30)"
   ]
  },
  {
   "cell_type": "markdown",
   "id": "9ff4e83a-77c4-4d5b-bfe1-70e03b8ffb0f",
   "metadata": {},
   "source": [
    "Load a dataset for terminus traces (this is only used to crop if the traces match the date of the DEM) and PGC DEMS obtained from PCG site"
   ]
  },
  {
   "cell_type": "code",
   "execution_count": null,
   "id": "be849cd8-24fc-4ede-8b0e-6a0fc3bbec26",
   "metadata": {},
   "outputs": [],
   "source": [
    "termpicks = gpd.read_file('Terminus/TermPicks+Calfin_v2/TermPicks_Zhang_KAS_ls_edtied_v3.shp')\n",
    "termpicks = termpicks[termpicks['GlacierID']==int(glacierid)]"
   ]
  },
  {
   "cell_type": "code",
   "execution_count": 13,
   "id": "7f508265-e27a-4357-a184-29d780c67f15",
   "metadata": {},
   "outputs": [],
   "source": [
    "dems = os.listdir('PGC_DEMS/' + glacierid)\n",
    "masked = []\n",
    "for file in dems:\n",
    "    if file.endswith(\"dem_masked.tif\"):\n",
    "        masked.append(file)"
   ]
  },
  {
   "cell_type": "markdown",
   "id": "f3661ede-b0f6-43b2-a835-98c9f01f5553",
   "metadata": {},
   "source": [
    "Manually approve DEMs for completeness. Images of the DEM will appear and indicate 'y' for good, 'n' for bad. "
   ]
  },
  {
   "cell_type": "code",
   "execution_count": null,
   "id": "2d9940d7-97bf-4c61-9852-95e273fb7f53",
   "metadata": {
    "tags": []
   },
   "outputs": [],
   "source": [
    "\n",
    "approve = []\n",
    "for file in masked:\n",
    "    lidar_chm_im = rxr.open_rasterio(\"PGC_DEMS/\"+glacierid+\"/\" + file,\n",
    "                                 masked=True).squeeze()\n",
    "\n",
    "    f, ax = plt.subplots(figsize=(10, 5))\n",
    "    lidar_chm_im.plot.imshow()\n",
    "    ax.set_axis_off()\n",
    "    plt.show()\n",
    "    \n",
    "    approve.append(input())\n",
    "\n",
    "final = []\n",
    "for file, app in zip(masked,approve):\n",
    "    if app == 'y':\n",
    "        final.append(file)\n",
    "        scr = 'PGC_DEMS/' + glacierid+'/'+file\n",
    "        dst = \"Approved_DEMS/\"+glacierid+\"/\" + file\n",
    "        shutil.copyfile(scr, dst)\n",
    "        \n",
    "df = pd.DataFrame(final,columns=['approved']) \n",
    "# saving the dataframe \n",
    "df.to_csv(\"DEM_approve/\"+glacierid+\".csv\")"
   ]
  },
  {
   "cell_type": "code",
   "execution_count": 13,
   "id": "bd42f59a-8e03-45c7-89b2-4647e92c0541",
   "metadata": {},
   "outputs": [],
   "source": [
    "#if already approved\n",
    "df = pd.read_csv(\"DEM_approve/\"+glacierid+\".csv\")\n",
    "final = df['approved'].to_list()"
   ]
  },
  {
   "cell_type": "markdown",
   "id": "4d289b9e-d2be-4ddf-96d4-e52563106aeb",
   "metadata": {},
   "source": [
    "Once approved, match terminus trace dates to DEM dates."
   ]
  },
  {
   "cell_type": "code",
   "execution_count": 14,
   "id": "6ff31d5a-469f-4d98-8010-18daa598e625",
   "metadata": {},
   "outputs": [],
   "source": [
    "#Get the DEM dates list\n",
    "dem_dates = []\n",
    "for dem in final:\n",
    "    f_date = dem[18:26]\n",
    "    y = f_date[0:4]\n",
    "    m= f_date[4:6]\n",
    "    d = f_date[6:8]\n",
    "    date = y + '-' + m + '-' + d\n",
    "    datetime_object = datetime.strptime(date, '%Y-%m-%d')\n",
    "    dem_dates.append(datetime_object)\n",
    "\n",
    "#Get the Zhang dates list\n",
    "z_term_direct= os.listdir('Terminus/Zhang/Shapefiles')\n",
    "z_terminus_traces =[item for item in z_term_direct if item.endswith('.shp')]\n",
    "zhang_dates = []\n",
    "for trace in z_terminus_traces:\n",
    "    z_date = trace[4:12]\n",
    "    y = z_date[0:4]\n",
    "    m= z_date[4:6]\n",
    "    d = z_date[6:8]\n",
    "    date = y + '-' + m + '-' + d\n",
    "    datetime_object = datetime.strptime(date, '%Y-%m-%d')\n",
    "    zhang_dates.append(datetime_object)\n",
    "    \n",
    "#Get the TermPicks date list\n",
    "tp_datestr = termpicks['Date'].to_list()\n",
    "tp_dates = []\n",
    "for date in tp_datestr:\n",
    "    datetime_object = datetime.strptime(date, '%Y-%m-%d')\n",
    "    tp_dates.append(datetime_object)\n",
    "\n"
   ]
  },
  {
   "cell_type": "code",
   "execution_count": 15,
   "id": "848191b9-c55a-48fc-a2aa-1c872b8558b2",
   "metadata": {},
   "outputs": [],
   "source": [
    "#get the terminus trace that corresponds to the glacier dem date\n",
    "indexs = []\n",
    "for date,file in zip(dem_dates,final):\n",
    "    if date in zhang_dates:\n",
    "        indexs.append((file,date,'zhang',zhang_dates.index(date)))\n",
    "    elif date in tp_dates:\n",
    "        indexs.append((file,date,'tp',tp_dates.index(date)))\n",
    "    #elif date in n_dates:\n",
    "        #indexs.append((file,date,'new',n_dates.index(date)))\n",
    "    else:\n",
    "        indexs.append((file,date,'none',1))\n",
    "dem_df = pd.DataFrame(indexs, columns =['DEM','Date','Terminus','Index']) \n",
    "need_picks = dem_df[dem_df['Terminus'] == 'none']['DEM'].to_list()\n",
    "\n",
    "##Copies the DEMs that needed terminus traces to the approved location\n",
    "for file in need_picks:\n",
    "    scr = 'Approved_DEMS/'+glacierid+ '/' + file\n",
    "    dst = 'Approved_DEMS/Need_picks/'+glacierid +'/' +  file\n",
    "    shutil.copyfile(scr, dst)"
   ]
  },
  {
   "cell_type": "markdown",
   "id": "18c22283-5b9b-4efd-ac5b-4c2b6f4d0878",
   "metadata": {},
   "source": [
    "If any are missing, users will need to use the folder \"Approved DEMs/Need_picks\" to manually trace dates where there was no terminus trace that overlapped."
   ]
  },
  {
   "cell_type": "code",
   "execution_count": 16,
   "id": "6ef0f23e-20d1-4795-b5af-2c3d1e1eed0c",
   "metadata": {},
   "outputs": [],
   "source": [
    "#Get the DEM dates list\n",
    "dem_dates = []\n",
    "for dem in final:\n",
    "    f_date = dem[18:26]\n",
    "    y = f_date[0:4]\n",
    "    m= f_date[4:6]\n",
    "    d = f_date[6:8]\n",
    "    date = y + '-' + m + '-' + d\n",
    "    datetime_object = datetime.strptime(date, '%Y-%m-%d')\n",
    "    dem_dates.append(datetime_object)\n",
    "\n",
    "#Get the Zhang dates list\n",
    "z_term_direct= os.listdir('Terminus/Zhang/Shapefiles')\n",
    "z_terminus_traces =[item for item in z_term_direct if item.endswith('.shp')]\n",
    "zhang_dates = []\n",
    "for trace in z_terminus_traces:\n",
    "    z_date = trace[4:12]\n",
    "    y = z_date[0:4]\n",
    "    m= z_date[4:6]\n",
    "    d = z_date[6:8]\n",
    "    date = y + '-' + m + '-' + d\n",
    "    datetime_object = datetime.strptime(date, '%Y-%m-%d')\n",
    "    zhang_dates.append(datetime_object)\n",
    "    \n",
    "#Get the TermPicks date list\n",
    "tp_datestr = termpicks['Date'].to_list()\n",
    "tp_dates = []\n",
    "for date in tp_datestr:\n",
    "    datetime_object = datetime.strptime(date, '%Y-%m-%d')\n",
    "    tp_dates.append(datetime_object)\n",
    "\n",
    "#Get new picks dates to list\n",
    "\n",
    "n_picks = gpd.read_file('Terminus/New_traces/DEM_Traces_by_id/DEM_Traces_polar_'+glacierid+'.shp')\n",
    "n_picks = n_picks.to_crs(\"EPSG:3413\")\n",
    "n_datestr = n_picks['Date'].to_list()\n",
    "n_dates = []\n",
    "for date in n_datestr:\n",
    "    datetime_object = datetime.strptime(date, '%Y-%m-%d')\n",
    "    n_dates.append(datetime_object)\n",
    "    \n",
    "#get the terminus trace that corresponds to the glacier dem date\n",
    "indexs = []\n",
    "for date,file in zip(dem_dates,final):\n",
    "    if date in zhang_dates:\n",
    "        indexs.append((file,date,'zhang',zhang_dates.index(date)))\n",
    "    elif date in tp_dates:\n",
    "        indexs.append((file,date,'tp',tp_dates.index(date)))\n",
    "    elif date in n_dates:\n",
    "        indexs.append((file,date,'new',n_dates.index(date)))\n",
    "    else:\n",
    "        indexs.append((file,date,'none',1))\n",
    "dem_df = pd.DataFrame(indexs, columns =['DEM','Date','Terminus','Index']) \n",
    "need_picks = dem_df[dem_df['Terminus'] == 'none']['DEM'].to_list()\n",
    "\n",
    "##Copies the DEMs that needed terminus traces to the approved location\n",
    "for file in need_picks:\n",
    "    scr = 'Approved_DEMS/'+glacierid+ '/' + file\n",
    "    dst = 'Approved_DEMS/Need_picks/'+glacierid +'/' +  file\n",
    "    shutil.copyfile(scr, dst)"
   ]
  },
  {
   "cell_type": "code",
   "execution_count": 17,
   "id": "97e2df67-f3a0-40e1-a6c0-7527995dfa55",
   "metadata": {},
   "outputs": [],
   "source": [
    "#After tracing the new termini in QGIS\n",
    "source = dem_df['Terminus'].to_list()\n",
    "index = dem_df['Index'].to_list()\n",
    "\n",
    "termini = []\n",
    "for name,i in zip(source,index):\n",
    "    if name == 'zhang':\n",
    "        term = gpd.read_file('Terminus/Shapefiles/'+z_terminus_traces[i])\n",
    "        geom = term['geometry'][0]\n",
    "        termini.append(geom)\n",
    "    elif name == 'tp':\n",
    "        geom = termpicks.iloc[i]['geometry']\n",
    "        termini.append(geom)\n",
    "    elif name == 'new':\n",
    "        geom = n_picks.iloc[i]['geometry']\n",
    "        termini.append(geom)\n",
    "        \n",
    "dem_df['geometry'] = termini   \n",
    "termini_gdf = gpd.GeoDataFrame(dem_df, crs=\"EPSG:3413\", geometry=dem_df['geometry'])\n",
    "termini_gdf['Date'] = termini_gdf['Date'].dt.strftime('%Y-%m-%d').to_list()\n",
    "termini_gdf.to_file('Terminus/New_traces/DEM_Traces_by_id/DEM_Traces_polar_'+glacierid+'.shp')"
   ]
  },
  {
   "cell_type": "code",
   "execution_count": 18,
   "id": "0c8f109c-cc99-417d-ba59-81fb3ffff319",
   "metadata": {},
   "outputs": [],
   "source": [
    "source = dem_df['Terminus'].to_list()\n",
    "index = dem_df['Index'].to_list()\n"
   ]
  },
  {
   "cell_type": "markdown",
   "id": "a36f8544-4a2e-4eca-a4ce-97f2510aab28",
   "metadata": {},
   "source": [
    "After DEMs are identified, upload the DEM polygons. These are used to subset the DEMs by the stress coupling distance."
   ]
  },
  {
   "cell_type": "code",
   "execution_count": null,
   "id": "a74d1f96-a4ab-423a-9a17-4bf7f0002de6",
   "metadata": {},
   "outputs": [],
   "source": [
    "#OPEN DEM POLYGONS\n",
    "polygons = gpd.read_file('DEM_sample_polygons/DEM_polygons.shp')\n",
    "polygon = polygons[polygons['GlacierID']==int(glacierid)]\n",
    "\n",
    "#OPEN CENTERLINES AND GET POINTS\n",
    "centerlines_df = gpd.read_file('Centerlines/termpicks_centerlines/termpicks_centerlines.shp')\n",
    "centerline_points = termpicks_centerline(centerlines_df,int(glacierid)).line2points(n_vert = 30)\n",
    "centerline_points.plot(column = 'cumsum', legend=True)\n",
    "\n",
    "#get cetroids of the termini\n",
    "centroids = termini_gdf.centroid.to_list()"
   ]
  },
  {
   "cell_type": "markdown",
   "id": "3c2d801c-7c45-44a5-aeda-443e48af8686",
   "metadata": {},
   "source": [
    "Then, project the terminus that cooresponds to the front of the glacier in the DEM to the lenghth of the stress coulpling distance up the glacier. "
   ]
  },
  {
   "cell_type": "code",
   "execution_count": 20,
   "id": "420cad7c-3695-438f-b455-2d407b61ae9a",
   "metadata": {},
   "outputs": [],
   "source": [
    "#FINDING NEW LOCATION OF TERMINI BASED ON STRESS COUPLING DISTANCE\n",
    "indexs_closest = []\n",
    "for i in centroids:\n",
    "    closest = near(i,centerline_points)\n",
    "    indexs_closest.append( closest)\n",
    "new_spot_index = [i-stresscoup_dist for i in indexs_closest]\n",
    "\n",
    "x=[]\n",
    "y=[]\n",
    "for new,old in zip(new_spot_index,indexs_closest):\n",
    "    \n",
    "    new_y = centerline_points.iloc[new]['geometry'].y\n",
    "    new_x = centerline_points.iloc[new]['geometry'].x\n",
    "    \n",
    "    old_y = centerline_points.iloc[old]['geometry'].y\n",
    "    old_x = centerline_points.iloc[old]['geometry'].x\n",
    "    \n",
    "    trans_y = new_y-old_y\n",
    "    trans_x = new_x-old_x\n",
    "    \n",
    "    x.append(trans_x)\n",
    "    y.append(trans_y)\n",
    "    \n",
    "tmp = []\n",
    "for index, poi in termini_gdf.iterrows():\n",
    "    new_point = translate(termini_gdf.loc[index, 'geometry'], xoff=x[index], yoff=y[index])\n",
    "    tmp.append({'geometry':new_point})\n",
    "\n",
    "scd = gpd.GeoDataFrame(tmp,crs=\"EPSG:3413\")\n",
    "scd['Date'] = termini_gdf['Date']\n",
    "\n",
    "\n",
    "scd.to_file('Terminus/New_traces/SCD_Termini/scd_termini_by_id/scd_termini_'+glacierid+'.shp')"
   ]
  },
  {
   "cell_type": "markdown",
   "id": "02c861e2-8c0c-4706-b523-133beb6b64a6",
   "metadata": {},
   "source": [
    "Currently, you need to go into QGIS to extend the shapefiles \"pickscd_e\" to make sure that they intersect the DEM_polygons. Once that is complete, create a polygons that will be used to crop the DEMs by the stress coupling distance.\n"
   ]
  },
  {
   "cell_type": "code",
   "execution_count": 21,
   "id": "e6d1985b-b7fd-4d6b-a9d7-1cd996a23e99",
   "metadata": {},
   "outputs": [],
   "source": [
    "scd_e = gpd.read_file('Terminus/New_traces/SCD_Termini/scd_termini_by_id/scd_termini_'+glacierid+'_extended.shp')\n",
    "scd_e = scd_e.sort_values(by=['Date'],ignore_index=True)\n",
    "\n",
    "termini_gdf = gpd.read_file('Terminus/New_traces/DEM_Traces_by_id/DEM_Traces_polar_'+glacierid+'_extended.shp')\n",
    "termini_gdf = termini_gdf.sort_values(by=['Date'],ignore_index=True)\n",
    "\n",
    "loop = termini_gdf.index.to_list()\n",
    "new_polygons = []\n",
    "for i in loop:\n",
    "\n",
    "    line1 = termini_gdf.iloc[i]['geometry']\n",
    "    line2 = scd_e.iloc[i]['geometry']\n",
    "\n",
    "    line1_pol = line1.buffer(1e-3)\n",
    "    line2_pol = line2.buffer(1e-3)\n",
    "\n",
    "    new_polygon = polygon.difference(line1_pol).difference(line2_pol)\n",
    "\n",
    "    new_polygon = gpd.GeoDataFrame(new_polygon, crs=\"EPSG:3413\", geometry = 0)\n",
    "    exploded = new_polygon.explode(index_parts=True)\n",
    "    if len(exploded) == 3:\n",
    "        exploded['area'] = exploded.area\n",
    "        exploded = exploded.loc[exploded['area']!=exploded['area'].max()]\n",
    "        exploded = exploded.loc[exploded['area']!=exploded['area'].max()]\n",
    "        new_polygons.append(exploded.iloc[0][0])\n",
    "    else:\n",
    "        exploded.plot()\n",
    "        print(i)\n",
    "termini_gdf['geometry'] = new_polygons\n",
    "\n",
    "termini_gdf.to_file('DEM_sample_polygons/SC_crop/'+glacierid+'.shp')"
   ]
  },
  {
   "cell_type": "markdown",
   "id": "1cbf2f66-030a-43c6-ba78-48e1871fc524",
   "metadata": {},
   "source": [
    "Crop the DEMs by the new polygons."
   ]
  },
  {
   "cell_type": "code",
   "execution_count": 22,
   "id": "021f2d49-71a7-4354-8487-5a0f7559b3c0",
   "metadata": {},
   "outputs": [],
   "source": [
    "dems = termini_gdf['DEM'].to_list()\n",
    "indx = termini_gdf.index.to_list()\n",
    "for dem, i in zip(dems,indx):\n",
    "\n",
    "    dem_path = os.path.join('Approved_DEMS/'+glacierid+'/', dem)\n",
    "\n",
    "    dem_im = rxr.open_rasterio(dem_path,\n",
    "                                     masked=True).squeeze()\n",
    "    crop_extent = termini_gdf[termini_gdf.index == i]\n",
    "    clipped = dem_im.rio.clip(crop_extent.geometry.apply(mapping))\n",
    "    path_to_tif_file = os.path.join(\"clipped_DEMS/\",glacierid, crop_extent['DEM'].to_list()[0])\n",
    "\n",
    "    # Write the data to a new geotiff file\n",
    "    clipped.rio.to_raster(path_to_tif_file)\n",
    "\n",
    "\n"
   ]
  },
  {
   "cell_type": "markdown",
   "id": "ca89f1f9-786e-46d1-9f42-7778a5a8d94c",
   "metadata": {},
   "source": [
    "Open the appropriate bed data and crop the bed to the same polygon used to crop the DEMs."
   ]
  },
  {
   "cell_type": "code",
   "execution_count": 23,
   "id": "1ab3f3aa-e348-4799-a8da-4c0bb26c78f0",
   "metadata": {},
   "outputs": [],
   "source": [
    "bed = rxr.open_rasterio('BedMachine/bed+geoid.tif', masked=True).squeeze()\n",
    "\n",
    "indx = termini_gdf.index.to_list()\n",
    "for i in indx:\n",
    "    crop_extent = termini_gdf[termini_gdf.index == i]\n",
    "    clipped = bed.rio.clip(crop_extent.geometry.apply(mapping))\n",
    "    path_to_tif_file = os.path.join(\"BedMachine\\\\Clipped_bed\",glacierid,\n",
    "                                    'bed_'+crop_extent['DEM'].to_list()[0])\n",
    "\n",
    "    # Write the data to a new geotiff file\n",
    "    clipped.rio.to_raster(path_to_tif_file)\n"
   ]
  },
  {
   "cell_type": "markdown",
   "id": "b7a1c99e-ae7f-48e4-b3c6-9fade49f8f9e",
   "metadata": {},
   "source": [
    "Calcualte the Height above bouyancy for each DEM and save it to a .tif"
   ]
  },
  {
   "cell_type": "code",
   "execution_count": null,
   "id": "1069158a-3c4c-40ee-a909-2a1a287b406f",
   "metadata": {},
   "outputs": [],
   "source": [
    "file_loop = termini_gdf['DEM'].to_list()\n",
    "means=[]\n",
    "medians=[]\n",
    "counts=[]\n",
    "stds=[]\n",
    "for file in file_loop:\n",
    "    bed_path = 'BedMachine/Clipped_bed/'+glacierid+'/bed_'+file\n",
    "    dem_path = 'Clipped_DEMs/'+glacierid+'/'+file\n",
    "    \n",
    "    #make sure the DEM and bed are co-registered \n",
    "    reproj_match(dem_path,bed_path,'Clipped_DEMs/150m/'+glacierid+'/150_'+file)\n",
    "\n",
    "\n",
    "    b = rxr.open_rasterio('BedMachine/Clipped_bed/'+glacierid+'/bed_'+file, masked=True).squeeze()\n",
    "    d =  rxr.open_rasterio('Clipped_DEMs/150m/'+glacierid+'/150_'+file, masked=True).squeeze()\n",
    "\n",
    "\n",
    "    ice_den = (b * 1.14)\n",
    "    thickness = d - b\n",
    "    hab = thickness+ice_den\n",
    "\n",
    "    means.append(hab.mean().to_numpy().tolist())\n",
    "    medians.append(hab.median().to_numpy().tolist())\n",
    "    counts.append(hab.count().to_numpy().tolist())\n",
    "    stds.append(hab.std().to_numpy().tolist())\n",
    "\n",
    "\n",
    "    hab.rio.to_raster('HAB/'+glacierid+'/hab_'+file)"
   ]
  },
  {
   "cell_type": "markdown",
   "id": "df9a82e1-4b3a-4384-899e-14bc30ceba0d",
   "metadata": {},
   "source": [
    "Sample the cropped DEMs to get the mean, median, STD, and counts for each DEM."
   ]
  },
  {
   "cell_type": "code",
   "execution_count": 25,
   "id": "b97405e7-9c1a-4e7b-b847-14648c74a864",
   "metadata": {},
   "outputs": [],
   "source": [
    "termini_gdf['mean'] = means\n",
    "termini_gdf['median'] = medians\n",
    "termini_gdf['std'] = stds\n",
    "termini_gdf['counts'] = counts\n",
    "\n",
    "termini_gdf.to_file('HAB_Sampled/'+glacierid+'.shp')"
   ]
  },
  {
   "cell_type": "markdown",
   "id": "e93a9408-8ac6-4720-830c-0cd7f6f8c521",
   "metadata": {},
   "source": [
    "## AeroDEM Steps\n",
    "\n",
    "The following processing steps are for the AeroDEM. They are currently seperate, but future versions will include a more streamlined notebook for calculating all DEMs regardless of source."
   ]
  },
  {
   "cell_type": "code",
   "execution_count": 6,
   "id": "40a3a66c-f351-4a00-9269-ac684f60df46",
   "metadata": {},
   "outputs": [],
   "source": [
    "glacierid = '3'"
   ]
  },
  {
   "cell_type": "code",
   "execution_count": 46,
   "id": "bb7ef5ea-64db-4918-8fbd-ff6ecf9b177e",
   "metadata": {},
   "outputs": [
    {
     "data": {
      "image/png": "[encoded data removed]",
      "text/plain": [
       "<Figure size 432x288 with 2 Axes>"
      ]
     },
     "metadata": {
      "needs_background": "light"
     },
     "output_type": "display_data"
    }
   ],
   "source": [
    "#OPEN DEM POLYGONS\n",
    "polygons = gpd.read_file('DEM_sample_polygons/DEM_polygons.shp')\n",
    "polygon = polygons[polygons['GlacierID']==int(glacierid)]\n",
    "\n",
    "#OPEN CENTERLINES AND GET POINTS\n",
    "centerlines_df = gpd.read_file('Centerlines/termpicks_centerlines/termpicks_centerlines.shp')\n",
    "centerline_points = termpicks_centerline(centerlines_df,int(glacierid)).line2points(n_vert = 30)\n",
    "centerline_points.plot(column = 'cumsum', legend=True)\n",
    "\n",
    "termini_gdf = gpd.read_file('AeroDEM/aerodem_crops/aerodem_termini_polar.shp')\n",
    "termini_gdf = termini_gdf[termini_gdf['id']== int(glacierid)]\n",
    "termini_gdf=termini_gdf.to_crs(3413)\n",
    "#get cetroids of the termini\n",
    "centroids = termini_gdf.centroid.to_list()"
   ]
  },
  {
   "cell_type": "code",
   "execution_count": 31,
   "id": "8df9b202-2000-466b-8964-ed15bed7a9a6",
   "metadata": {},
   "outputs": [],
   "source": [
    "#FINDING NEW LOCATION OF TERMINI BASED ON STRESS COUPLING DISTANCE\n",
    "indexs_closest = []\n",
    "for i in centroids:\n",
    "    closest = near(i,centerline_points)\n",
    "    indexs_closest.append( closest)\n",
    "new_spot_index = [i-stresscoup_dist for i in indexs_closest]\n",
    "\n",
    "x=[]\n",
    "y=[]\n",
    "for new,old in zip(new_spot_index,indexs_closest):\n",
    "    \n",
    "    new_y = centerline_points.iloc[new]['geometry'].y\n",
    "    new_x = centerline_points.iloc[new]['geometry'].x\n",
    "    \n",
    "    old_y = centerline_points.iloc[old]['geometry'].y\n",
    "    old_x = centerline_points.iloc[old]['geometry'].x\n",
    "    \n",
    "    trans_y = new_y-old_y\n",
    "    trans_x = new_x-old_x\n",
    "    \n",
    "    x.append(trans_x)\n",
    "    y.append(trans_y)\n",
    "    \n",
    "tmp = []\n",
    "for index, poi in termini_gdf.iterrows():\n",
    "    new_point = translate(termini_gdf.loc[index, 'geometry'], xoff=x[0], yoff=y[0])\n",
    "    tmp.append({'geometry':new_point})\n",
    "\n",
    "scd = gpd.GeoDataFrame(tmp,crs=\"EPSG:3413\")\n",
    "\n",
    "\n",
    "scd.to_file('AeroDEM/aerodem_crops/scd_termini_'+glacierid+'.shp')"
   ]
  },
  {
   "cell_type": "code",
   "execution_count": 47,
   "id": "3273aca2-ff6e-472f-84ed-b4569a692f60",
   "metadata": {},
   "outputs": [],
   "source": [
    "scd_e = gpd.read_file('AeroDEM/aerodem_crops/scd_termini_'+glacierid+'_extended.shp')\n",
    "\n",
    "line1 = termini_gdf['geometry'].values[0]\n",
    "line2 = scd_e['geometry'].values[0]\n",
    "\n",
    "line1_pol = line1.buffer(1e-3)\n",
    "line2_pol = line2.buffer(1e-3)\n",
    "\n",
    "new_polygon = polygon.difference(line1_pol).difference(line2_pol)\n",
    "\n",
    "new_polygon = gpd.GeoDataFrame(new_polygon, crs=\"EPSG:3413\", geometry = 0)\n",
    "exploded = new_polygon.explode(index_parts=True)\n",
    "    \n",
    "exploded['area'] = exploded.area\n",
    "exploded = exploded.loc[exploded['area']!=exploded['area'].max()]\n",
    "exploded = exploded.loc[exploded['area']!=exploded['area'].max()]\n",
    "termini_gdf['geometry'] = exploded.iloc[0][0]\n",
    "\n",
    "termini_gdf.to_file('AeroDEM/SC_crop/'+glacierid+'.shp')"
   ]
  },
  {
   "cell_type": "code",
   "execution_count": 50,
   "id": "0d5d1f3b-339e-4f35-8dd3-ffb8839b7147",
   "metadata": {},
   "outputs": [],
   "source": [
    "dem_path = os.path.join('AeroDEM/by_glacier/aero_'+glacierid+'.tif')\n",
    "\n",
    "dem_im = rxr.open_rasterio(dem_path,\n",
    "                                 masked=True).squeeze()\n",
    "crop_extent = termini_gdf\n",
    "clipped = dem_im.rio.clip(crop_extent.geometry.apply(mapping))\n",
    "path_to_tif_file = os.path.join(\"AeroDEM\\\\by_glacier\\\\clipped_DEMS\\\\\",glacierid +'.tif')\n",
    "# Write the data to a new geotiff file\n",
    "clipped.rio.to_raster(path_to_tif_file)"
   ]
  },
  {
   "cell_type": "code",
   "execution_count": 51,
   "id": "5d9e8d48-2de8-4efd-9eb4-dbd2780cd44c",
   "metadata": {},
   "outputs": [],
   "source": [
    "hab =  rxr.open_rasterio('AeroDEM/by_glacier/clipped_DEMS/'+glacierid+'.tif', masked=True).squeeze()\n",
    "\n",
    "mean = hab.mean().to_numpy().tolist()\n",
    "median = hab.median().to_numpy().tolist()\n",
    "counts = hab.count().to_numpy().tolist()\n",
    "stds= hab.std().to_numpy().tolist()\n",
    "\n",
    "\n",
    "hab.rio.to_raster('AeroDEM/HAB/'+glacierid+'_hab.tif')\n",
    "\n",
    "hab_sample = gpd.read_file('HAB_Sampled/'+glacierid+'.shp')\n",
    "aero_df = {'DEM': 'AeroDEM', 'Date':'1985-07-02', 'mean': mean, 'median': median, 'std': stds, 'counts': counts, 'geometry': termini_gdf['geometry'].values[0]}\n",
    "df = hab_sample.append(aero_df, ignore_index = True)\n",
    "df.to_file('HAB_Sampled/'+glacierid+'.shp')"
   ]
  },
  {
   "cell_type": "code",
   "execution_count": 53,
   "id": "e6dd405f-6409-4029-9f23-4a3e8f6554fb",
   "metadata": {},
   "outputs": [],
   "source": [
    "df.to_file('HAB_Sampled/'+glacierid+'.shp')"
   ]
  },
  {
   "cell_type": "markdown",
   "id": "7c07702c-5765-4491-aa36-87951d071692",
   "metadata": {},
   "source": [
    "## GrIMP DEM Steps\n",
    "\n",
    "The following processing steps are for the GrIMP DEM. They are currently seperate, but future versions will include a more streamlined notebook for calculating all DEMs regardless of source."
   ]
  },
  {
   "cell_type": "code",
   "execution_count": 54,
   "id": "72159961-ef7d-4bea-a1f0-703072ae22d8",
   "metadata": {},
   "outputs": [],
   "source": [
    "glacierid = '3'\n",
    "kingdata = pd.read_csv('King_data_summary.csv')\n",
    "thickness = kingdata[kingdata['GlacierID']==int(glacierid)]['thick_mean'].values[0]\n",
    "stresscoup_dist = int((thickness*4)/30)"
   ]
  },
  {
   "cell_type": "code",
   "execution_count": 55,
   "id": "7f680bc2-ea4e-472f-867f-0666a9bacac3",
   "metadata": {},
   "outputs": [
    {
     "data": {
      "image/png": "[encoded data removed]",
      "text/plain": [
       "<Figure size 432x288 with 2 Axes>"
      ]
     },
     "metadata": {
      "needs_background": "light"
     },
     "output_type": "display_data"
    }
   ],
   "source": [
    "#OPEN DEM POLYGONS\n",
    "polygons = gpd.read_file('DEM_sample_polygons/DEM_polygons.shp')\n",
    "polygon = polygons[polygons['GlacierID']==int(glacierid)]\n",
    "\n",
    "#OPEN CENTERLINES AND GET POINTS\n",
    "centerlines_df = gpd.read_file('Centerlines/termpicks_centerlines/termpicks_centerlines.shp')\n",
    "centerline_points = termpicks_centerline(centerlines_df,int(glacierid)).line2points(n_vert = 30)\n",
    "centerline_points.plot(column = 'cumsum', legend=True)\n",
    "\n",
    "\n",
    "#termini_gdf = gpd.read_file('GIMP/gimp_crops/1_2.shp')\n",
    "termini_gdf = gpd.read_file('GIMP/gimp_crops/1_3.shp')\n",
    "termini_gdf = termini_gdf[termini_gdf['id']== int(glacierid)]\n",
    "termini_gdf=termini_gdf.to_crs(3413)\n",
    "#get cetroids of the termini\n",
    "centroids = termini_gdf.centroid.to_list()\n",
    "\n",
    "#FINDING NEW LOCATION OF TERMINI BASED ON STRESS COUPLING DISTANCE\n",
    "indexs_closest = []\n",
    "for i in centroids:\n",
    "    closest = near(i,centerline_points)\n",
    "    indexs_closest.append( closest)\n",
    "new_spot_index = [i-stresscoup_dist for i in indexs_closest]\n",
    "\n",
    "x=[]\n",
    "y=[]\n",
    "for new,old in zip(new_spot_index,indexs_closest):\n",
    "    \n",
    "    new_y = centerline_points.iloc[new]['geometry'].y\n",
    "    new_x = centerline_points.iloc[new]['geometry'].x\n",
    "    \n",
    "    old_y = centerline_points.iloc[old]['geometry'].y\n",
    "    old_x = centerline_points.iloc[old]['geometry'].x\n",
    "    \n",
    "    trans_y = new_y-old_y\n",
    "    trans_x = new_x-old_x\n",
    "    \n",
    "    x.append(trans_x)\n",
    "    y.append(trans_y)\n",
    "    \n",
    "tmp = []\n",
    "for index, poi in termini_gdf.iterrows():\n",
    "    new_point = translate(termini_gdf.loc[index, 'geometry'], xoff=x[0], yoff=y[0])\n",
    "    tmp.append({'geometry':new_point})\n",
    "\n",
    "scd = gpd.GeoDataFrame(tmp,crs=\"EPSG:3413\")\n",
    "\n",
    "\n",
    "scd.to_file('GIMP/gimp_crops/scd_termini_'+glacierid+'.shp')"
   ]
  },
  {
   "cell_type": "code",
   "execution_count": 56,
   "id": "862c101e-1f28-4079-9601-f9c33577072f",
   "metadata": {},
   "outputs": [
    {
     "name": "stderr",
     "output_type": "stream",
     "text": [
      "C:\\Users\\sofyg\\Anaconda3\\envs\\geo_env\\lib\\site-packages\\IPython\\core\\interactiveshell.py:2947: SerializationWarning: saving variable None with floating point data as an integer dtype without any _FillValue to use for NaNs\n",
      "  return runner(coro)\n"
     ]
    },
    {
     "name": "stdout",
     "output_type": "stream",
     "text": [
      "Coregistered to shape: 23 15 \n",
      " Affine | 150.00, 0.00,-264350.00|\n",
      "| 0.00,-150.00,-1944950.00|\n",
      "| 0.00, 0.00, 1.00|\n"
     ]
    }
   ],
   "source": [
    "scd_e = gpd.read_file('GIMP/gimp_crops/scd_termini_'+glacierid+'.shp')\n",
    "\n",
    "line1 = termini_gdf['geometry'].values[0]\n",
    "line2 = scd_e['geometry'].values[0]\n",
    "\n",
    "line1_pol = line1.buffer(1e-3)\n",
    "line2_pol = line2.buffer(1e-3)\n",
    "\n",
    "new_polygon = polygon.difference(line1_pol).difference(line2_pol)\n",
    "\n",
    "new_polygon = gpd.GeoDataFrame(new_polygon, crs=\"EPSG:3413\", geometry = 0)\n",
    "exploded = new_polygon.explode(index_parts=True)\n",
    "    \n",
    "exploded['area'] = exploded.area\n",
    "exploded = exploded.loc[exploded['area']!=exploded['area'].max()]\n",
    "exploded = exploded.loc[exploded['area']!=exploded['area'].max()]\n",
    "termini_gdf['geometry'] = exploded.iloc[0][0]\n",
    "\n",
    "termini_gdf.to_file('GIMP/SC_crop/'+glacierid+'.shp')\n",
    "\n",
    "dem_path = os.path.join('GIMP/gimpdem1_3_v01.1.tif')\n",
    "#dem_path = os.path.join('GIMP/gimpdem1_2_v01.1.tif')\n",
    "\n",
    "dem_im = rxr.open_rasterio(dem_path,\n",
    "                                 masked=True).squeeze()\n",
    "crop_extent = termini_gdf\n",
    "clipped = dem_im.rio.clip(crop_extent.geometry.apply(mapping))\n",
    "path_to_tif_file = os.path.join(\"GIMP/by_glacier\",glacierid +'.tif')\n",
    "# Write the data to a new geotiff file\n",
    "clipped.rio.to_raster(path_to_tif_file)\n",
    "\n",
    "bed = rxr.open_rasterio('BedMachine/bed+geoid.tif', masked=True).squeeze()\n",
    "\n",
    "indx = termini_gdf.index.to_list()\n",
    "for i in indx:\n",
    "    crop_extent = termini_gdf[termini_gdf.index == i]\n",
    "    clipped = bed.rio.clip(crop_extent.geometry.apply(mapping))\n",
    "    path_to_tif_file = os.path.join(\"GIMP/bed/\",glacierid +\n",
    "                                    'bed.tif')\n",
    "\n",
    "    # Write the data to a new geotiff file\n",
    "    clipped.rio.to_raster(path_to_tif_file)\n",
    "\n",
    "bed_path = os.path.join(\"GIMP/bed/\",glacierid +'bed.tif')\n",
    "dem_path = os.path.join(\"GIMP/by_glacier\",glacierid +'.tif')\n",
    "\n",
    "\n",
    "reproj_match(dem_path,bed_path,\"GIMP/by_glacier/\"+glacierid +'_150.tif')\n",
    "\n",
    "\n",
    "b = rxr.open_rasterio(bed_path, masked=True).squeeze()\n",
    "d =  rxr.open_rasterio(\"GIMP/by_glacier/\"+glacierid +'_150.tif', masked=True).squeeze()\n",
    "\n",
    "\n",
    "ice_den = (b * 1.14)\n",
    "thickness = d - b\n",
    "hab = thickness+ice_den\n",
    "\n",
    "hab.rio.to_raster('GIMP/HAB/'+glacierid+'_hab_.tif')\n",
    "\n",
    "mean = hab.mean().to_numpy().tolist()\n",
    "median = hab.median().to_numpy().tolist()\n",
    "counts = hab.count().to_numpy().tolist()\n",
    "stds= hab.std().to_numpy().tolist()\n",
    "hab_sample = gpd.read_file('HAB_Sampled/'+glacierid+'.shp')\n",
    "aero_df = {'DEM': 'GIMP', 'Date':'2007-07-02', 'mean': mean, 'median': median, 'std': stds, 'counts': counts, 'geometry': termini_gdf['geometry'].values[0]}\n",
    "df = hab_sample.append(aero_df, ignore_index = True)\n",
    "df.to_file('HAB_Sampled/'+glacierid+'.shp')"
   ]
  }
 ],
 "metadata": {
  "kernelspec": {
   "display_name": "Python 3 (ipykernel)",
   "language": "python",
   "name": "python3"
  },
  "language_info": {
   "codemirror_mode": {
    "name": "ipython",
    "version": 3
   },
   "file_extension": ".py",
   "mimetype": "text/x-python",
   "name": "python",
   "nbconvert_exporter": "python",
   "pygments_lexer": "ipython3",
   "version": "3.9.4"
  }
 },
 "nbformat": 4,
 "nbformat_minor": 5
}
