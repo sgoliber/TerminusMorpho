{
 "cells": [
  {
   "cell_type": "markdown",
   "id": "1be6b521-de6e-4788-bb43-a5ca82f81b28",
   "metadata": {},
   "source": [
    "## 2. Combine Autoterm and Termpicks data"
   ]
  },
  {
   "cell_type": "code",
   "execution_count": 1,
   "id": "3672c10d-8633-4ce8-8a11-7f2fcbf1a1e0",
   "metadata": {},
   "outputs": [],
   "source": [
    "import geopandas as gpd\n",
    "import pandas as pd\n",
    "from shapely import geometry, ops\n",
    "import os\n",
    "import matplotlib.pyplot as plt\n",
    "import re\n",
    "from datetime import datetime, timedelta\n",
    "import time\n",
    "\n",
    "from terminus import termpicks_trace, termpicks_centerline, termpicks_interpolation\n",
    "\n",
    "\n",
    "\n",
    "def toYearFraction(date):\n",
    "    def sinceEpoch(date): # returns seconds since epoch\n",
    "        return time.mktime(date.timetuple())\n",
    "    s = sinceEpoch\n",
    "\n",
    "    year = date.year\n",
    "    startOfThisYear = datetime(year=year, month=1, day=1)\n",
    "    startOfNextYear = datetime(year=year+1, month=1, day=1)\n",
    "\n",
    "    yearElapsed = s(date) - s(startOfThisYear)\n",
    "    yearDuration = s(startOfNextYear) - s(startOfThisYear)\n",
    "    fraction = yearElapsed/yearDuration\n",
    "\n",
    "    return date.year + fraction"
   ]
  },
  {
   "cell_type": "code",
   "execution_count": 2,
   "id": "e9ef5170-162c-4239-878d-65810960b4e6",
   "metadata": {},
   "outputs": [],
   "source": [
    "termpicks = gpd.read_file('Terminus/TermPicks_V2/TermPicks_V2.shp')\n",
    "termpicks = termpicks[termpicks.Author != 'Cheng_D']\n",
    "centerlines_df = gpd.read_file('termpicks_centerlines/termpicks_centerlines.shp')\n",
    "termpicks=termpicks.set_crs(3413)\n",
    "termpicks = termpicks[~termpicks.is_empty] "
   ]
  },
  {
   "cell_type": "markdown",
   "id": "6a1adee6-9b35-4c4f-b64a-7214f8a2febe",
   "metadata": {},
   "source": [
    "Extract the date from the Autoterm traces and get the Decimal Date"
   ]
  },
  {
   "cell_type": "code",
   "execution_count": null,
   "id": "a1887ea4-5d42-4099-8f81-1dc7026b4073",
   "metadata": {},
   "outputs": [],
   "source": [
    "z_files = os.listdir('Terminus/Zhang/AutoTerm_shapefiles/Termini')\n",
    "shps = [file for file in z_files if file.endswith(\".shp\")]\n",
    "autoterms = []\n",
    "for file in shps:\n",
    "    glac = gpd.read_file('Terminus/Zhang/AutoTerm_shapefiles/Termini/' + file)\n",
    "    glac=glac.to_crs(3413)\n",
    "\n",
    "    #get id\n",
    "    filen = file.replace('GID', '')\n",
    "    id_str = filen.replace('.shp', '')\n",
    "    \n",
    "    glac['GlacierID'] = int(id_str)\n",
    "    \n",
    "    autoterms.append(glac)\n",
    "    \n",
    "    glac['DT'] = pd.to_datetime(glac['Date'])\n",
    "    glac['year'] = pd.DatetimeIndex(glac['DT']).year\n",
    "    \n",
    "    #plotting to evaluate the traces\n",
    "    #fig ,ax = plt.subplots(1,1)\n",
    "    #glac.plot(ax=ax,column='year',cmap='viridis', legend = 'True',alpha = .5)\n",
    "    #ax.set_title(file.replace('.shp', ''))\n",
    "    #plt.show()\n",
    "    \n",
    "    #fig.savefig('Figures/autoterm/'+file.replace('.shp', ''))"
   ]
  },
  {
   "cell_type": "code",
   "execution_count": 70,
   "id": "998b37e6-e6b7-4d0b-b6a0-d9ea45440b08",
   "metadata": {},
   "outputs": [],
   "source": [
    "for file in shps:\n",
    "    glac = gpd.read_file('Terminus/Zhang/AutoTerm_orig/Termini/' + file)\n",
    "    glac=glac.to_crs(3413)\n",
    "    \n",
    "    #get id\n",
    "    filen = file.replace('GID', '')\n",
    "    id_str = filen.replace('.shp', '')\n",
    "    \n",
    "    glac['GlacierID'] = int(id_str)\n",
    "\n",
    "    autoterms.append(glac)"
   ]
  },
  {
   "cell_type": "markdown",
   "id": "88d5d783-951f-481c-99ec-873de77b64cd",
   "metadata": {},
   "source": [
    "Extract the date from the Autoterm traces and get the Decimal Date"
   ]
  },
  {
   "cell_type": "code",
   "execution_count": 26,
   "id": "02c28bad-cecc-4ff6-a575-f1abed441c3a",
   "metadata": {},
   "outputs": [],
   "source": [
    "full = autoterm['Date'].to_list()\n",
    "year = []\n",
    "day = []\n",
    "month = []\n",
    "for d in full:\n",
    "    year.append(d[0:4])\n",
    "    month.append(d[5:7])\n",
    "    day.append(d[8:10])\n",
    "    \n",
    "autoterm['Year'] = year\n",
    "autoterm['Month'] = month\n",
    "autoterm['Day'] = day\n",
    "\n",
    "\n",
    "dts =  pd.to_datetime(autoterm['Date'])\n",
    "fracs = [toYearFraction(d) for d in dts]\n",
    "autoterm['DecDate'] = fracs\n",
    "\n",
    "combined = pd.concat([autoterm, termpicks])"
   ]
  },
  {
   "cell_type": "code",
   "execution_count": 28,
   "id": "9a623a08-a2c7-4b71-9c41-7ec12aa42003",
   "metadata": {},
   "outputs": [],
   "source": [
    "#combined = new_combined\n",
    "\n",
    "ls = combined[combined.geometry.type == 'LineString']\n",
    "mls = combined[combined.geometry.type == 'MultiLineString']\n",
    "\n",
    "ls_n = []\n",
    "for multi_line in mls.geometry.to_list():\n",
    "    # you can now merge the lines\n",
    "    merged_line = ops.linemerge(multi_line)\n",
    "    \n",
    "    ls_n.append(merged_line)\n",
    "mls['geometry'] = ls_n\n",
    "mls = mls[mls.geometry.type == 'LineString']\n",
    "\n",
    "shpfiles =pd.concat([ls,mls],ignore_index=True)\n",
    "shpfiles.to_file('Terminus/TermPicks_AutoTerm.shp')\n"
   ]
  },
  {
   "cell_type": "markdown",
   "id": "b624769a-6857-454f-9133-ca01dea437e2",
   "metadata": {},
   "source": [
    "The Autoterm traces needed to be maually clipped in QGIS to make sure that its does not include the fjord walls. This was only done for the glaciers of intrest in the file \"Terminus/selected_glacs_cleaned/combined.shp\""
   ]
  },
  {
   "cell_type": "code",
   "execution_count": 2,
   "id": "bc7f2afd-497e-4e92-9154-a8ecc05c6873",
   "metadata": {},
   "outputs": [],
   "source": [
    "shpfiles = gpd.read_file('Terminus/selected_glacs_cleaned/combined.shp')\n",
    "centerlines_df = gpd.read_file('termpicks_centerlines/termpicks_centerlines.shp')"
   ]
  },
  {
   "cell_type": "code",
   "execution_count": null,
   "id": "45109373-bdae-4217-9124-f2906f6582d5",
   "metadata": {},
   "outputs": [],
   "source": [
    "retreats = []\n",
    "ids = [1,77,67,97,280,152,181,285,284,288,291,1]\n",
    "for i in ids:\n",
    "    trace_points = termpicks_trace(shpfiles,i).trace2points(n_vert = 30)\n",
    "    centerline_points = termpicks_centerline(centerlines_df,i).line2points(n_vert = 30)\n",
    "    \n",
    "    retreat=termpicks_interpolation(trace_points,centerline_points).calc_retreat()\n",
    "\n",
    "    retreats.append(retreat)\n",
    "    \n",
    "    retreat.to_csv('Terminus/Retreat/selected_glacs/'+str(i)+'.csv')"
   ]
  }
 ],
 "metadata": {
  "kernelspec": {
   "display_name": "Python 3 (ipykernel)",
   "language": "python",
   "name": "python3"
  },
  "language_info": {
   "codemirror_mode": {
    "name": "ipython",
    "version": 3
   },
   "file_extension": ".py",
   "mimetype": "text/x-python",
   "name": "python",
   "nbconvert_exporter": "python",
   "pygments_lexer": "ipython3",
   "version": "3.9.4"
  }
 },
 "nbformat": 4,
 "nbformat_minor": 5
}
