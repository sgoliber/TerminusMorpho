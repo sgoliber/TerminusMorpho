{
 "cells": [
  {
   "cell_type": "markdown",
   "id": "a9645e26-34e6-43ee-8196-50afb8fa2fb1",
   "metadata": {},
   "source": [
    "## 1b. DEM Bed error and other stats table"
   ]
  },
  {
   "cell_type": "code",
   "execution_count": null,
   "id": "c5e12d33-0c35-4d54-9cf0-2cb39fc5ec1e",
   "metadata": {},
   "outputs": [],
   "source": [
    "import geopandas as gpd\n",
    "from rasterstats import zonal_stats"
   ]
  },
  {
   "cell_type": "code",
   "execution_count": 127,
   "id": "c4e055b6-ede9-4f65-9618-82eb8558d7dc",
   "metadata": {},
   "outputs": [],
   "source": [
    "glacierid='288'"
   ]
  },
  {
   "cell_type": "code",
   "execution_count": 128,
   "id": "dac40011-fb2f-4d81-80af-23b530eb0040",
   "metadata": {},
   "outputs": [
    {
     "name": "stderr",
     "output_type": "stream",
     "text": [
      "C:\\Users\\sofyg\\AppData\\Local\\Temp/ipykernel_28028/3576782536.py:6: FutureWarning: The default value of regex will change from True to False in a future version.\n",
      "  hab['DEM Name'] = hab['DEM Name'].str.replace('_2m_lsf_seg1_dem_masked.tif', '')\n",
      "C:\\Users\\sofyg\\AppData\\Local\\Temp/ipykernel_28028/3576782536.py:7: FutureWarning: The default value of regex will change from True to False in a future version.\n",
      "  hab['DEM Name'] = hab['DEM Name'].str.replace('_2m_lsf_seg2_dem_masked.tif', '')\n"
     ]
    }
   ],
   "source": [
    "hab = gpd.read_file('HAB_Sampled/'+glacierid+'.shp')\n",
    "meanerr=zonal_stats(hab, \"BedMachine/bed_error.tif\", stats=\"mean\")\n",
    "hab['mean_err']=[m.get('mean') for m in meanerr]\n",
    "hab.drop(['Terminus', 'mean','counts','geometry','Index'], axis=1, inplace=True)\n",
    "hab = hab.rename(columns={\"DEM\": \"DEM Name\", \"Date\": \"DEM Date\", \"median\":'Median Hab',\"std\":'STD Hab','mean_err': \"Mean Bed Error\"})\n",
    "hab['DEM Name'] = hab['DEM Name'].str.replace('_2m_lsf_seg1_dem_masked.tif', '')\n",
    "hab['DEM Name'] = hab['DEM Name'].str.replace('_2m_lsf_seg2_dem_masked.tif', '')\n",
    "\n",
    "hab['Median Hab']=hab['Median Hab'].astype(int)\n",
    "hab['STD Hab']=hab['STD Hab'].astype(int)\n",
    "hab['Mean Bed Error']=hab['Mean Bed Error'].astype(int)\n",
    "hab = hab[hab['DEM Name'] != 'SPOT_geoid']\n",
    "hab.to_csv('Figures/DEM tables/'+glacierid+'.csv', index=False)"
   ]
  },
  {
   "cell_type": "code",
   "execution_count": null,
   "id": "9cab804d-438f-4b3d-8ea9-ec2e12073f5c",
   "metadata": {},
   "outputs": [],
   "source": []
  }
 ],
 "metadata": {
  "kernelspec": {
   "display_name": "Python 3 (ipykernel)",
   "language": "python",
   "name": "python3"
  },
  "language_info": {
   "codemirror_mode": {
    "name": "ipython",
    "version": 3
   },
   "file_extension": ".py",
   "mimetype": "text/x-python",
   "name": "python",
   "nbconvert_exporter": "python",
   "pygments_lexer": "ipython3",
   "version": "3.9.13"
  }
 },
 "nbformat": 4,
 "nbformat_minor": 5
}
