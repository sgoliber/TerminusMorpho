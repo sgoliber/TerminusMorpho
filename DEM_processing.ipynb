{
 "cells": [
  {
   "cell_type": "code",
   "execution_count": 48,
   "id": "bccb8a45-116e-4477-acb0-6ecc32a8c0f0",
   "metadata": {},
   "outputs": [],
   "source": [
    "import os\n",
    "import matplotlib.pyplot as plt\n",
    "import seaborn as sns\n",
    "import numpy as np\n",
    "from shapely.geometry import mapping\n",
    "import rioxarray as rxr\n",
    "import xarray as xr\n",
    "import geopandas as gpd\n",
    "import earthpy as et\n",
    "import earthpy.plot as ep\n",
    "import shutil"
   ]
  },
  {
   "cell_type": "code",
   "execution_count": 29,
   "id": "7f508265-e27a-4357-a184-29d780c67f15",
   "metadata": {},
   "outputs": [],
   "source": [
    "dems = os.listdir('1')\n",
    "masked = []\n",
    "for file in dems:\n",
    "    if file.endswith(\"dem_masked.tif\"):\n",
    "        masked.append(file)"
   ]
  },
  {
   "cell_type": "code",
   "execution_count": null,
   "id": "2d9940d7-97bf-4c61-9852-95e273fb7f53",
   "metadata": {},
   "outputs": [],
   "source": [
    "#APPROVE DEMS\n",
    "approve = []\n",
    "for file in masked:\n",
    "    lidar_chm_im = rxr.open_rasterio(\"1/\" + file,\n",
    "                                 masked=True).squeeze()\n",
    "\n",
    "    f, ax = plt.subplots(figsize=(10, 5))\n",
    "    lidar_chm_im.plot.imshow()\n",
    "    ax.set_axis_off()\n",
    "    plt.show()\n",
    "    \n",
    "    approve.append(input())\n",
    "textfile = open(\"DEM_approve/1.txt\", \"w\")\n",
    "for element in approve:\n",
    "    textfile.write(element + \"\\n\")\n",
    "textfile.close()  \n",
    "\n",
    "final = []\n",
    "for file, app in zip(masked,approve):\n",
    "    if app == 'y':\n",
    "        final.append(file)\n",
    "        scr = '1/'+file\n",
    "        dst = 'Approved_DEMS/1/' + file\n",
    "        shutil.copyfile(scr, dst)"
   ]
  }
 ],
 "metadata": {
  "kernelspec": {
   "display_name": "Python 3 (ipykernel)",
   "language": "python",
   "name": "python3"
  },
  "language_info": {
   "codemirror_mode": {
    "name": "ipython",
    "version": 3
   },
   "file_extension": ".py",
   "mimetype": "text/x-python",
   "name": "python",
   "nbconvert_exporter": "python",
   "pygments_lexer": "ipython3",
   "version": "3.9.4"
  }
 },
 "nbformat": 4,
 "nbformat_minor": 5
}
