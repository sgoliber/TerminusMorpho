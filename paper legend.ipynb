{
 "cells": [
  {
   "cell_type": "markdown",
   "id": "9a9119a8-9515-4c0f-8420-d8dfd50799df",
   "metadata": {},
   "source": [
    "Simple code to produce a legend for appending to figures"
   ]
  },
  {
   "cell_type": "code",
   "execution_count": 7,
   "id": "79c43d38-6a78-4079-b779-bd159f4a02a9",
   "metadata": {},
   "outputs": [
    {
     "data": {
      "image/png": "[encoded data removed]",
      "text/plain": [
       "<Figure size 432x288 with 1 Axes>"
      ]
     },
     "metadata": {
      "needs_background": "light"
     },
     "output_type": "display_data"
    }
   ],
   "source": [
    "from matplotlib.lines import Line2D\n",
    "from matplotlib.patches import Patch\n",
    "import matplotlib.pyplot as plt\n",
    "\n",
    "colors={'Buoyant Flexure':'royalblue', 'Serac Failure':'gold', 'Mixed':'mediumseagreen', '0' : 'tab:grey'}\n",
    "\n",
    "\n",
    "legend_elements = [Line2D([0], [0], marker='o', color='w', label='Buoyant Flexure',markerfacecolor='royalblue', markersize=15),\n",
    "                  Line2D([0], [0], marker='o', color='w', label='Mixed',markerfacecolor='mediumseagreen', markersize=15),\n",
    "                  Line2D([0], [0], marker='o', color='w', label='Serac Failure',markerfacecolor='gold', markersize=15),]\n",
    "\n",
    "# Create the figure\n",
    "fig, ax = plt.subplots()\n",
    "ax.legend(handles=legend_elements, loc='center')\n",
    "\n",
    "plt.savefig(\"Figures/Paper/main/summary/updated/leg.png\",dpi=300)"
   ]
  },
  {
   "cell_type": "code",
   "execution_count": null,
   "id": "15acb563-4e90-4934-9be2-e085d880149a",
   "metadata": {},
   "outputs": [],
   "source": []
  }
 ],
 "metadata": {
  "kernelspec": {
   "display_name": "Python 3 (ipykernel)",
   "language": "python",
   "name": "python3"
  },
  "language_info": {
   "codemirror_mode": {
    "name": "ipython",
    "version": 3
   },
   "file_extension": ".py",
   "mimetype": "text/x-python",
   "name": "python",
   "nbconvert_exporter": "python",
   "pygments_lexer": "ipython3",
   "version": "3.9.4"
  }
 },
 "nbformat": 4,
 "nbformat_minor": 5
}
