{
 "cells": [
  {
   "cell_type": "code",
   "execution_count": 3,
   "id": "87643a87-7094-4acd-8eb9-708e212ee343",
   "metadata": {},
   "outputs": [],
   "source": [
    "import geopandas as gpd\n",
    "import pandas as pd\n",
    "from shapely.geometry import Point, LineString, Polygon\n",
    "import numpy as np\n",
    "from shapely.ops import nearest_points\n",
    "import matplotlib.pyplot as plt\n",
    "from shapely.ops import linemerge, unary_union, polygonize\n",
    "from shapely.geometry import Point, MultiPoint\n",
    "from shapely import geometry, ops\n",
    "from shapely.ops import split, snap\n",
    "np.seterr(divide='ignore', invalid='ignore')\n",
    "import shapely\n",
    "import warnings\n",
    "from shapely.errors import ShapelyDeprecationWarning\n",
    "warnings.filterwarnings(\"ignore\", category=ShapelyDeprecationWarning) \n"
   ]
  },
  {
   "cell_type": "code",
   "execution_count": 4,
   "id": "51e79ace-6af3-4245-be83-0949d08f111f",
   "metadata": {},
   "outputs": [],
   "source": [
    "def split_line_by_point(line, point, tolerance: float=1.0e-12):\n",
    "    return split(snap(line, point, tolerance), point)\n",
    "\n",
    "def cut_polygon_by_line(polygon, line):\n",
    "    merged = linemerge([polygon.boundary, line])\n",
    "    borders = unary_union(merged)\n",
    "    polygons = polygonize(borders)\n",
    "    return list(polygons)\n",
    "\n",
    "def plot(shapely_objects, figure_path='fig.png'):\n",
    "    boundary = gpd.GeoSeries(shapely_objects)\n",
    "    boundary.plot(color=['red', 'green', 'blue', 'yellow', 'yellow'])\n",
    "    plt.savefig(figure_path)\n",
    "\n",
    "def verts(df):\n",
    "    \n",
    "    n_vertices=[] ###\n",
    "\n",
    "    for i, row in df.iterrows():\n",
    "        # It's better to check if multigeometry\n",
    "        multi = row.geometry.type.startswith(\"Multi\")\n",
    "\n",
    "        if multi:\n",
    "            n = 0\n",
    "            # iterate over all parts of multigeometry\n",
    "            for part in row.geometry:\n",
    "                n += len(part.coords)\n",
    "        else:\n",
    "            n = len(row.geometry.coords)\n",
    "        n_vertices.append(n) ###\n",
    "    return n_vertices"
   ]
  },
  {
   "cell_type": "code",
   "execution_count": null,
   "id": "80994878-86ae-41ad-a780-cdd4e0941fe2",
   "metadata": {},
   "outputs": [],
   "source": []
  }
 ],
 "metadata": {
  "kernelspec": {
   "display_name": "Python 3 (ipykernel)",
   "language": "python",
   "name": "python3"
  },
  "language_info": {
   "codemirror_mode": {
    "name": "ipython",
    "version": 3
   },
   "file_extension": ".py",
   "mimetype": "text/x-python",
   "name": "python",
   "nbconvert_exporter": "python",
   "pygments_lexer": "ipython3",
   "version": "3.9.4"
  }
 },
 "nbformat": 4,
 "nbformat_minor": 5
}
